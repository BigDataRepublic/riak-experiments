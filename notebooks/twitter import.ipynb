{
 "cells": [
  {
   "cell_type": "markdown",
   "metadata": {},
   "source": [
    "Read tweets into crate\n",
    "=========\n",
    "This requires an HTTP interface to crate running at http://localhost:8098/admin"
   ]
  },
  {
   "cell_type": "code",
   "execution_count": 1,
   "metadata": {
    "collapsed": true
   },
   "outputs": [],
   "source": [
    "import json\n",
    "import configparser\n",
    "from twitter import Twitter, OAuth, TwitterHTTPError, TwitterStream\n",
    "import itertools"
   ]
  },
  {
   "cell_type": "code",
   "execution_count": 2,
   "metadata": {
    "collapsed": true
   },
   "outputs": [],
   "source": [
    "#Load authentication \n",
    "#Secret file should be something like:\n",
    "#[twitter]\n",
    "#ACCESS_TOKEN=....\n",
    "#ACCESS_SECRET=....\n",
    "config = configparser.ConfigParser()\n",
    "with open('twitter_secrets.ini', 'r') as configfile:\n",
    "    config.read_file(configfile)\n",
    "\n",
    "\n",
    "oauth = OAuth(config['twitter']['ACCESS_TOKEN'],\n",
    "              config['twitter']['ACCESS_SECRET'],\n",
    "              config['twitter']['CONSUMER_KEY'],\n",
    "              config['twitter']['CONSUMER_SECRET'])"
   ]
  },
  {
   "cell_type": "code",
   "execution_count": 3,
   "metadata": {
    "collapsed": true
   },
   "outputs": [],
   "source": [
    "import riak\n",
    "client = riak.RiakClient(pb_port=8087)\n",
    "twitterBucket = client.bucket(\"tweets\")"
   ]
  },
  {
   "cell_type": "code",
   "execution_count": 4,
   "metadata": {
    "collapsed": false
   },
   "outputs": [],
   "source": [
    "# Initiate the connection to Twitter Streaming API\n",
    "twitterStream = TwitterStream(auth=oauth)\n",
    "\n",
    "samples = twitterStream.statuses.sample()\n",
    "\n",
    "for tweet in itertools.islice(samples, 1000):\n",
    "    if ('user' in tweet) and ('id_str' in tweet) and ('text' in tweet):\n",
    "        key = twitterBucket.new(tweet['id_str'], data = {\n",
    "            'user.id_str': tweet['user']['id_str'],\n",
    "            'user.name': tweet['user']['name'],\n",
    "            'user.lang': tweet['user']['lang'],\n",
    "            'user.followers_count': tweet['user']['followers_count'],\n",
    "            'user.friends_count': tweet['user']['friends_count'],\n",
    "            'user.statuses_count': tweet['user']['statuses_count'],\n",
    "            'text': tweet['text'],\n",
    "            'source': tweet['source'],\n",
    "            'created_at': tweet['created_at']     \n",
    "        })\n",
    "        key.store()\n"
   ]
  },
  {
   "cell_type": "code",
   "execution_count": 5,
   "metadata": {
    "collapsed": false
   },
   "outputs": [
    {
     "data": {
      "text/plain": [
       "{'contributors': None,\n",
       " 'coordinates': None,\n",
       " 'created_at': 'Fri Mar 10 14:05:51 +0000 2017',\n",
       " 'entities': {'hashtags': [],\n",
       "  'symbols': [],\n",
       "  'urls': [{'display_url': '7asnat.com',\n",
       "    'expanded_url': 'http://7asnat.com/',\n",
       "    'indices': [46, 69],\n",
       "    'url': 'https://t.co/G0iN1MsnKQ'}],\n",
       "  'user_mentions': []},\n",
       " 'favorite_count': 0,\n",
       " 'favorited': False,\n",
       " 'filter_level': 'low',\n",
       " 'geo': None,\n",
       " 'id': 840202041981038592,\n",
       " 'id_str': '840202041981038592',\n",
       " 'in_reply_to_screen_name': None,\n",
       " 'in_reply_to_status_id': None,\n",
       " 'in_reply_to_status_id_str': None,\n",
       " 'in_reply_to_user_id': None,\n",
       " 'in_reply_to_user_id_str': None,\n",
       " 'is_quote_status': False,\n",
       " 'lang': 'ar',\n",
       " 'place': None,\n",
       " 'possibly_sensitive': False,\n",
       " 'retweet_count': 0,\n",
       " 'retweeted': False,\n",
       " 'source': '<a href=\"http://7asnat.com\" rel=\"nofollow\"> حسنات</a>',\n",
       " 'text': 'اللهم ارزقنا العفو و العافية بالدنيا و الآخرة https://t.co/G0iN1MsnKQ',\n",
       " 'timestamp_ms': '1489154751664',\n",
       " 'truncated': False,\n",
       " 'user': {'contributors_enabled': False,\n",
       "  'created_at': 'Tue Nov 15 21:34:05 +0000 2011',\n",
       "  'default_profile': True,\n",
       "  'default_profile_image': False,\n",
       "  'description': '\\u200fيارب أكتب لي حياة عندك أجمل من حياة الدنيا❤️',\n",
       "  'favourites_count': 54,\n",
       "  'follow_request_sent': None,\n",
       "  'followers_count': 231,\n",
       "  'following': None,\n",
       "  'friends_count': 60,\n",
       "  'geo_enabled': True,\n",
       "  'id': 413422714,\n",
       "  'id_str': '413422714',\n",
       "  'is_translator': False,\n",
       "  'lang': 'en',\n",
       "  'listed_count': 1,\n",
       "  'location': None,\n",
       "  'name': 'نُونتھہ',\n",
       "  'notifications': None,\n",
       "  'profile_background_color': 'C0DEED',\n",
       "  'profile_background_image_url': 'http://abs.twimg.com/images/themes/theme1/bg.png',\n",
       "  'profile_background_image_url_https': 'https://abs.twimg.com/images/themes/theme1/bg.png',\n",
       "  'profile_background_tile': False,\n",
       "  'profile_banner_url': 'https://pbs.twimg.com/profile_banners/413422714/1426808291',\n",
       "  'profile_image_url': 'http://pbs.twimg.com/profile_images/509926899343040512/VZuVpcnH_normal.jpeg',\n",
       "  'profile_image_url_https': 'https://pbs.twimg.com/profile_images/509926899343040512/VZuVpcnH_normal.jpeg',\n",
       "  'profile_link_color': '1DA1F2',\n",
       "  'profile_sidebar_border_color': 'C0DEED',\n",
       "  'profile_sidebar_fill_color': 'DDEEF6',\n",
       "  'profile_text_color': '333333',\n",
       "  'profile_use_background_image': True,\n",
       "  'protected': False,\n",
       "  'screen_name': 'Nemo107b',\n",
       "  'statuses_count': 17817,\n",
       "  'time_zone': None,\n",
       "  'url': 'http://cdn.top4top.net/d_240e628ec60.mp3',\n",
       "  'utc_offset': None,\n",
       "  'verified': False}}"
      ]
     },
     "execution_count": 5,
     "metadata": {},
     "output_type": "execute_result"
    }
   ],
   "source": [
    "tweet"
   ]
  }
 ],
 "metadata": {
  "kernelspec": {
   "display_name": "Python 3",
   "language": "python",
   "name": "python3"
  },
  "language_info": {
   "codemirror_mode": {
    "name": "ipython",
    "version": 3
   },
   "file_extension": ".py",
   "mimetype": "text/x-python",
   "name": "python",
   "nbconvert_exporter": "python",
   "pygments_lexer": "ipython3",
   "version": "3.6.0"
  }
 },
 "nbformat": 4,
 "nbformat_minor": 2
}
